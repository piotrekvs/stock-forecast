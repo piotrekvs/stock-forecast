{
 "cells": [
  {
   "cell_type": "markdown",
   "id": "d5950f57",
   "metadata": {},
   "source": [
    "# Download Stock Data"
   ]
  },
  {
   "cell_type": "markdown",
   "id": "9a7d5eb2",
   "metadata": {},
   "source": [
    "Imports"
   ]
  },
  {
   "cell_type": "code",
   "execution_count": 2,
   "id": "fe6d7cd5",
   "metadata": {},
   "outputs": [],
   "source": [
    "import yfinance as yf\n",
    "from tiingo import TiingoClient\n",
    "import pandas as pd\n",
    "from dotenv import dotenv_values\n",
    "import constants\n",
    "\n",
    "config = dotenv_values(\".env\")"
   ]
  },
  {
   "cell_type": "markdown",
   "id": "057d3a25",
   "metadata": {},
   "source": [
    "## Tiingo"
   ]
  },
  {
   "cell_type": "code",
   "execution_count": 9,
   "id": "a43f69c3",
   "metadata": {},
   "outputs": [],
   "source": [
    "client = TiingoClient({'session': True, 'api_key': config['TIINGO_API_TOKEN']})"
   ]
  },
  {
   "cell_type": "code",
   "execution_count": null,
   "id": "3f4e7bce",
   "metadata": {},
   "outputs": [],
   "source": [
    "def download_tiingo(ticker: str, start_date: str, end_date: str, frequency: str) -> pd.DataFrame:\n",
    "    df = client.get_dataframe(ticker,\n",
    "                              startDate=start_date,\n",
    "                              endDate=end_date,\n",
    "                              frequency=frequency)\n",
    "    return df.sort_index()\n",
    "\n",
    "def rename_and_drop_columns(df: pd.DataFrame, \n",
    "                            drop_columns: list | None = None, \n",
    "                            new_column_names: dict | None= None) -> pd.DataFrame:\n",
    "    \n",
    "    if drop_columns is None:\n",
    "        drop_columns = [\"open\", \"high\", \"low\", \"close\", \"volume\", \"splitFactor\"]\n",
    "\n",
    "    if new_column_names is None:\n",
    "        new_column_names = {\"adjClose\": \"close\", \n",
    "                            \"adjHigh\": \"high\", \n",
    "                            \"adjLow\": \"low\", \n",
    "                            \"adjOpen\": \"open\", \n",
    "                            \"adjVolume\": \"volume\"}\n",
    "        \n",
    "    df = df.drop(columns=drop_columns, errors='ignore')\n",
    "    df = df.rename(columns=new_column_names)\n",
    "    return df\n",
    "\n",
    "def save_to_parquet(df, filename: str):\n",
    "    df.to_parquet(filename, index=True)\n",
    "\n",
    "def read_from_parquet(filename: str) -> pd.DataFrame:\n",
    "    return pd.read_parquet(filename)\n",
    "\n",
    "def show_info(df: pd.DataFrame):\n",
    "    print(\"\\n\\n\\n=====types:=====\")\n",
    "    print(df.dtypes)\n",
    "\n",
    "    print(\"\\n\\n\\n=====index:=====\")\n",
    "    print(df.index)\n",
    "\n",
    "    print(\"\\n\\n\\n=====null values:=====\")\n",
    "    print(df.isnull().sum())\n"
   ]
  },
  {
   "cell_type": "markdown",
   "id": "7133422d",
   "metadata": {},
   "source": [
    "### Download 3 most valiuable stocks in the S&P 500 index\n",
    "\n",
    "https://companiesmarketcap.com/usa/largest-companies-in-the-usa-by-market-cap/"
   ]
  },
  {
   "cell_type": "markdown",
   "id": "0a4b09cd",
   "metadata": {},
   "source": [
    "### 1. NVIDIA daily Data"
   ]
  },
  {
   "cell_type": "code",
   "execution_count": null,
   "id": "146179a5",
   "metadata": {},
   "outputs": [],
   "source": [
    "# nvidia_daily = download_tiingo(constants.TICKER_NVIDIA, constants.START_DATE, constants.END_DATE, constants.DAILY_TIINGO)\n",
    "# save_to_parquet(nvidia_daily, \"data/nvidia_daily.parquet\")\n",
    "\n",
    "nvidia_daily = read_from_parquet(\"data/nvidia_daily.parquet\")\n",
    "\n",
    "show_info(nvidia_daily)\n",
    "\n",
    "nvidia_daily.head()"
   ]
  },
  {
   "cell_type": "markdown",
   "id": "b1ac9bb3",
   "metadata": {},
   "source": [
    "### 2. MICROSOFT daily data"
   ]
  },
  {
   "cell_type": "code",
   "execution_count": null,
   "id": "52bf75e6",
   "metadata": {},
   "outputs": [],
   "source": [
    "# microsoft_daily = download_tiingo(constants.TICKER_MICROSOFT, constants.START_DATE, constants.END_DATE, constants.DAILY_TIINGO)\n",
    "# save_to_parquet(microsoft_daily, \"data/microsoft_daily.parquet\")\n",
    "\n",
    "microsoft_daily = read_from_parquet(\"data/microsoft_daily.parquet\")\n",
    "\n",
    "show_info(microsoft_daily)\n",
    "\n",
    "microsoft_daily.head()"
   ]
  },
  {
   "cell_type": "markdown",
   "id": "99ee7dc9",
   "metadata": {},
   "source": [
    "### 3. APPLE daily data"
   ]
  },
  {
   "cell_type": "code",
   "execution_count": 5,
   "id": "103766f9",
   "metadata": {},
   "outputs": [
    {
     "name": "stdout",
     "output_type": "stream",
     "text": [
      "\n",
      "\n",
      "\n",
      "=====types:=====\n",
      "close      float64\n",
      "high       float64\n",
      "low        float64\n",
      "open       float64\n",
      "volume       int64\n",
      "divCash    float64\n",
      "dtype: object\n",
      "\n",
      "\n",
      "\n",
      "=====index:=====\n",
      "DatetimeIndex(['2010-01-04 00:00:00+00:00', '2010-01-05 00:00:00+00:00',\n",
      "               '2010-01-06 00:00:00+00:00', '2010-01-07 00:00:00+00:00',\n",
      "               '2010-01-08 00:00:00+00:00', '2010-01-11 00:00:00+00:00',\n",
      "               '2010-01-12 00:00:00+00:00', '2010-01-13 00:00:00+00:00',\n",
      "               '2010-01-14 00:00:00+00:00', '2010-01-15 00:00:00+00:00',\n",
      "               ...\n",
      "               '2025-06-16 00:00:00+00:00', '2025-06-17 00:00:00+00:00',\n",
      "               '2025-06-18 00:00:00+00:00', '2025-06-20 00:00:00+00:00',\n",
      "               '2025-06-23 00:00:00+00:00', '2025-06-24 00:00:00+00:00',\n",
      "               '2025-06-25 00:00:00+00:00', '2025-06-26 00:00:00+00:00',\n",
      "               '2025-06-27 00:00:00+00:00', '2025-06-30 00:00:00+00:00'],\n",
      "              dtype='datetime64[ns, UTC]', name='date', length=3896, freq=None)\n",
      "\n",
      "\n",
      "\n",
      "=====null values:=====\n",
      "close      0\n",
      "high       0\n",
      "low        0\n",
      "open       0\n",
      "volume     0\n",
      "divCash    0\n",
      "dtype: int64\n"
     ]
    },
    {
     "data": {
      "text/html": [
       "<div>\n",
       "<style scoped>\n",
       "    .dataframe tbody tr th:only-of-type {\n",
       "        vertical-align: middle;\n",
       "    }\n",
       "\n",
       "    .dataframe tbody tr th {\n",
       "        vertical-align: top;\n",
       "    }\n",
       "\n",
       "    .dataframe thead th {\n",
       "        text-align: right;\n",
       "    }\n",
       "</style>\n",
       "<table border=\"1\" class=\"dataframe\">\n",
       "  <thead>\n",
       "    <tr style=\"text-align: right;\">\n",
       "      <th></th>\n",
       "      <th>close</th>\n",
       "      <th>high</th>\n",
       "      <th>low</th>\n",
       "      <th>open</th>\n",
       "      <th>volume</th>\n",
       "      <th>divCash</th>\n",
       "    </tr>\n",
       "    <tr>\n",
       "      <th>date</th>\n",
       "      <th></th>\n",
       "      <th></th>\n",
       "      <th></th>\n",
       "      <th></th>\n",
       "      <th></th>\n",
       "      <th></th>\n",
       "    </tr>\n",
       "  </thead>\n",
       "  <tbody>\n",
       "    <tr>\n",
       "      <th>2010-01-04 00:00:00+00:00</th>\n",
       "      <td>6.431808</td>\n",
       "      <td>6.446534</td>\n",
       "      <td>6.382820</td>\n",
       "      <td>6.414376</td>\n",
       "      <td>493730093</td>\n",
       "      <td>0.0</td>\n",
       "    </tr>\n",
       "    <tr>\n",
       "      <th>2010-01-05 00:00:00+00:00</th>\n",
       "      <td>6.442927</td>\n",
       "      <td>6.479292</td>\n",
       "      <td>6.408967</td>\n",
       "      <td>6.449539</td>\n",
       "      <td>601905401</td>\n",
       "      <td>0.0</td>\n",
       "    </tr>\n",
       "    <tr>\n",
       "      <th>2010-01-06 00:00:00+00:00</th>\n",
       "      <td>6.340444</td>\n",
       "      <td>6.468473</td>\n",
       "      <td>6.333832</td>\n",
       "      <td>6.442927</td>\n",
       "      <td>552160552</td>\n",
       "      <td>0.0</td>\n",
       "    </tr>\n",
       "    <tr>\n",
       "      <th>2010-01-07 00:00:00+00:00</th>\n",
       "      <td>6.328723</td>\n",
       "      <td>6.371399</td>\n",
       "      <td>6.282741</td>\n",
       "      <td>6.363886</td>\n",
       "      <td>477131677</td>\n",
       "      <td>0.0</td>\n",
       "    </tr>\n",
       "    <tr>\n",
       "      <th>2010-01-08 00:00:00+00:00</th>\n",
       "      <td>6.370798</td>\n",
       "      <td>6.371399</td>\n",
       "      <td>6.283041</td>\n",
       "      <td>6.320308</td>\n",
       "      <td>447611247</td>\n",
       "      <td>0.0</td>\n",
       "    </tr>\n",
       "  </tbody>\n",
       "</table>\n",
       "</div>"
      ],
      "text/plain": [
       "                              close      high       low      open     volume  \\\n",
       "date                                                                           \n",
       "2010-01-04 00:00:00+00:00  6.431808  6.446534  6.382820  6.414376  493730093   \n",
       "2010-01-05 00:00:00+00:00  6.442927  6.479292  6.408967  6.449539  601905401   \n",
       "2010-01-06 00:00:00+00:00  6.340444  6.468473  6.333832  6.442927  552160552   \n",
       "2010-01-07 00:00:00+00:00  6.328723  6.371399  6.282741  6.363886  477131677   \n",
       "2010-01-08 00:00:00+00:00  6.370798  6.371399  6.283041  6.320308  447611247   \n",
       "\n",
       "                           divCash  \n",
       "date                                \n",
       "2010-01-04 00:00:00+00:00      0.0  \n",
       "2010-01-05 00:00:00+00:00      0.0  \n",
       "2010-01-06 00:00:00+00:00      0.0  \n",
       "2010-01-07 00:00:00+00:00      0.0  \n",
       "2010-01-08 00:00:00+00:00      0.0  "
      ]
     },
     "execution_count": 5,
     "metadata": {},
     "output_type": "execute_result"
    }
   ],
   "source": [
    "# apple_daily = download_tiingo(constants.TICKER_APPLE, constants.START_DATE, constants.END_DATE, constants.DAILY_TIINGO)\n",
    "# apple_daily = rename_and_drop_columns(apple_daily)\n",
    "# save_to_parquet(apple_daily, \"data/apple_daily.parquet\")\n",
    "\n",
    "apple_daily = read_from_parquet(\"data/apple_daily.parquet\")\n",
    "\n",
    "show_info(apple_daily)\n",
    "\n",
    "apple_daily.head()"
   ]
  },
  {
   "cell_type": "markdown",
   "id": "e2306eab",
   "metadata": {},
   "source": [
    "## Yahoo Finance API"
   ]
  },
  {
   "cell_type": "code",
   "execution_count": 18,
   "id": "227f00cd",
   "metadata": {},
   "outputs": [
    {
     "name": "stderr",
     "output_type": "stream",
     "text": [
      "[*********************100%***********************]  1 of 1 completed\n",
      "\n",
      "1 Failed download:\n",
      "['AAPL']: YFRateLimitError('Too Many Requests. Rate limited. Try after a while.')\n"
     ]
    },
    {
     "data": {
      "text/html": [
       "<div>\n",
       "<style scoped>\n",
       "    .dataframe tbody tr th:only-of-type {\n",
       "        vertical-align: middle;\n",
       "    }\n",
       "\n",
       "    .dataframe tbody tr th {\n",
       "        vertical-align: top;\n",
       "    }\n",
       "\n",
       "    .dataframe thead tr th {\n",
       "        text-align: left;\n",
       "    }\n",
       "\n",
       "    .dataframe thead tr:last-of-type th {\n",
       "        text-align: right;\n",
       "    }\n",
       "</style>\n",
       "<table border=\"1\" class=\"dataframe\">\n",
       "  <thead>\n",
       "    <tr>\n",
       "      <th>Price</th>\n",
       "      <th>Adj Close</th>\n",
       "      <th>Close</th>\n",
       "      <th>High</th>\n",
       "      <th>Low</th>\n",
       "      <th>Open</th>\n",
       "      <th>Volume</th>\n",
       "    </tr>\n",
       "    <tr>\n",
       "      <th>Ticker</th>\n",
       "      <th>AAPL</th>\n",
       "      <th>AAPL</th>\n",
       "      <th>AAPL</th>\n",
       "      <th>AAPL</th>\n",
       "      <th>AAPL</th>\n",
       "      <th>AAPL</th>\n",
       "    </tr>\n",
       "    <tr>\n",
       "      <th>Date</th>\n",
       "      <th></th>\n",
       "      <th></th>\n",
       "      <th></th>\n",
       "      <th></th>\n",
       "      <th></th>\n",
       "      <th></th>\n",
       "    </tr>\n",
       "  </thead>\n",
       "  <tbody>\n",
       "  </tbody>\n",
       "</table>\n",
       "</div>"
      ],
      "text/plain": [
       "Empty DataFrame\n",
       "Columns: [(Adj Close, AAPL), (Close, AAPL), (High, AAPL), (Low, AAPL), (Open, AAPL), (Volume, AAPL)]\n",
       "Index: []"
      ]
     },
     "execution_count": 18,
     "metadata": {},
     "output_type": "execute_result"
    }
   ],
   "source": [
    "apple_stock = yf.download('AAPL', start='2024-01-01', end='2025-04-01', interval='1d')\n",
    "apple_stock.head()"
   ]
  }
 ],
 "metadata": {
  "kernelspec": {
   "display_name": "mgr1",
   "language": "python",
   "name": "python3"
  },
  "language_info": {
   "codemirror_mode": {
    "name": "ipython",
    "version": 3
   },
   "file_extension": ".py",
   "mimetype": "text/x-python",
   "name": "python",
   "nbconvert_exporter": "python",
   "pygments_lexer": "ipython3",
   "version": "3.11.12"
  }
 },
 "nbformat": 4,
 "nbformat_minor": 5
}
